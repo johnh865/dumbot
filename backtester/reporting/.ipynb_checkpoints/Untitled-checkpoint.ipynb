{
 "cells": [
  {
   "cell_type": "markdown",
   "id": "db27fdd1",
   "metadata": {},
   "source": [
    "# Test\n",
    "## yum\n",
    "\n",
    "this is a test cell\n"
   ]
  },
  {
   "cell_type": "code",
   "execution_count": null,
   "id": "ebce8b7b",
   "metadata": {},
   "outputs": [],
   "source": [
    "a = 1\n",
    "\n",
    "# more test"
   ]
  }
 ],
 "metadata": {
  "kernelspec": {
   "display_name": "Python 3",
   "language": "python",
   "name": "python3"
  },
  "language_info": {
   "codemirror_mode": {
    "name": "ipython",
    "version": 3
   },
   "file_extension": ".py",
   "mimetype": "text/x-python",
   "name": "python",
   "nbconvert_exporter": "python",
   "pygments_lexer": "ipython3",
   "version": "3.9.2"
  }
 },
 "nbformat": 4,
 "nbformat_minor": 5
}
